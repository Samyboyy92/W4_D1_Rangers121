{
 "cells": [
  {
   "cell_type": "markdown",
   "metadata": {},
   "source": [
    "# Regular Expressions"
   ]
  },
  {
   "cell_type": "markdown",
   "metadata": {},
   "source": [
    "# Tasks today:\n",
    "1) <b>Importing</b> <br>\n",
    "2) <b>Using Regular Expressions</b> <br>\n",
    " &nbsp;&nbsp;&nbsp;&nbsp; a) re.compile() <br>\n",
    " &nbsp;&nbsp;&nbsp;&nbsp; b) re.match() <br>\n",
    " &nbsp;&nbsp;&nbsp;&nbsp; c) re.findall() <br>\n",
    " &nbsp;&nbsp;&nbsp;&nbsp; d) re.search() <br>\n",
    "3) <b>Sets</b> <br>\n",
    " &nbsp;&nbsp;&nbsp;&nbsp; a) Integer Ranges <br>\n",
    " &nbsp;&nbsp;&nbsp;&nbsp; b) Character Ranges <br>\n",
    "4) <b>Counting Occurences</b> <br>\n",
    " &nbsp;&nbsp;&nbsp;&nbsp; a) {x} <br>\n",
    " &nbsp;&nbsp;&nbsp;&nbsp; b) {, x} <br>\n",
    " &nbsp;&nbsp;&nbsp;&nbsp; c) {?} <br>\n",
    " &nbsp;&nbsp;&nbsp;&nbsp; d) {*} <br>\n",
    " &nbsp;&nbsp;&nbsp;&nbsp; e) {+} <br>\n",
    "5) <b>In-Class Exercise #1</b> <br>\n",
    "6) <b>Escaping Characters</b> <br>\n",
    "7) <b>Grouping</b> <br>\n",
    "8) <b>In-Class Exercise #2</b> <br>\n",
    "9) <b>Opening a File</b> <br>\n",
    " &nbsp;&nbsp;&nbsp;&nbsp; a) open() <br>\n",
    " &nbsp;&nbsp;&nbsp;&nbsp; b) with open() <br>\n",
    " &nbsp;&nbsp;&nbsp;&nbsp; c) re.match() <br>\n",
    " &nbsp;&nbsp;&nbsp;&nbsp; d) re.search() <br>\n",
    " &nbsp;&nbsp;&nbsp;&nbsp; e) Store the String in a Variable <br>\n",
    "10) <b>Regex Project</b> <br>"
   ]
  },
  {
   "cell_type": "markdown",
   "metadata": {},
   "source": [
    "### Importing <br>\n",
    "<p>Regular Expressions are universal throughout most programming languages... They are generally imported through the module 're'.</p>"
   ]
  },
  {
   "cell_type": "code",
   "execution_count": 2,
   "metadata": {},
   "outputs": [],
   "source": [
    "# import re\n",
    "import re"
   ]
  },
  {
   "cell_type": "markdown",
   "metadata": {},
   "source": [
    "### Using Regular Expressions <br>\n",
    "<p>Regular expressions give us the ability to search for patterns within text, strings, files, etc. They serve several uses, such as; security measures, searching, filtering, pattern recognition, and more...</p>"
   ]
  },
  {
   "cell_type": "markdown",
   "metadata": {},
   "source": [
    "##### re.compile()"
   ]
  },
  {
   "cell_type": "code",
   "execution_count": 10,
   "metadata": {},
   "outputs": [],
   "source": [
    "#using compile, predetermines the string to be used in regular expression methods\n",
    "\n",
    "pattern = re.compile(\"abcd\")"
   ]
  },
  {
   "cell_type": "markdown",
   "metadata": {},
   "source": [
    "##### re.match()"
   ]
  },
  {
   "cell_type": "code",
   "execution_count": 11,
   "metadata": {},
   "outputs": [
    {
     "name": "stdout",
     "output_type": "stream",
     "text": [
      "(0, 4)\n",
      "Help on function match in module re:\n",
      "\n",
      "match(pattern, string, flags=0)\n",
      "    Try to apply the pattern at the start of the string, returning\n",
      "    a Match object, or None if no match was found.\n",
      "\n",
      "None\n"
     ]
    }
   ],
   "source": [
    "#return the first match and then stop\n",
    "#if it doesn'f immediately find a match is going to stop searching\n",
    "\n",
    "match = pattern.match('abcd123')\n",
    "print(match.span())\n",
    "help(re.match)\n",
    "re.match?\n",
    "\n",
    "match2 = pattern.match('123abcd')\n",
    "print(match2)\n"
   ]
  },
  {
   "cell_type": "markdown",
   "metadata": {},
   "source": [
    "##### re.findall()"
   ]
  },
  {
   "cell_type": "code",
   "execution_count": 12,
   "metadata": {},
   "outputs": [
    {
     "name": "stdout",
     "output_type": "stream",
     "text": [
      "['abcd', 'abcd', 'abcd', 'abcd', 'abcd']\n",
      "Help on function findall in module re:\n",
      "\n",
      "findall(pattern, string, flags=0)\n",
      "    Return a list of all non-overlapping matches in the string.\n",
      "    \n",
      "    If one or more capturing groups are present in the pattern, return\n",
      "    a list of groups; this will be a list of tuples if the pattern\n",
      "    has more than one group.\n",
      "    \n",
      "    Empty matches are included in the result.\n",
      "\n"
     ]
    }
   ],
   "source": [
    "#return a list of matches\n",
    "\n",
    "pattern = re.compile(\"abcd\")\n",
    "finders = pattern.findall(\"123abcd abcd123 abcdabcd 123abcd123\")\n",
    "print(finders)\n",
    "\n",
    "help(re.findall)"
   ]
  },
  {
   "cell_type": "markdown",
   "metadata": {},
   "source": [
    "##### re.search()"
   ]
  },
  {
   "cell_type": "code",
   "execution_count": 13,
   "metadata": {},
   "outputs": [
    {
     "name": "stdout",
     "output_type": "stream",
     "text": [
      "Help on function search in module re:\n",
      "\n",
      "search(pattern, string, flags=0)\n",
      "    Scan through string looking for a match to the pattern, returning\n",
      "    a Match object, or None if no match was found.\n",
      "\n",
      "<re.Match object; span=(34, 38), match='abcd'>\n",
      "(34, 38)\n",
      "(34, 38) <class 'tuple'>\n",
      "abcd\n",
      "abcd\n"
     ]
    }
   ],
   "source": [
    "#return the first instance of the pattern\n",
    "#it will search the entirety of the string before giving up\n",
    "\n",
    "help(re.search)\n",
    "\n",
    "pattern = re.compile('abcd')\n",
    "\n",
    "random_string = \"123 123 12234 skjdhhfsjdhfgb 1234 abcd asdygasdashd\"\n",
    "search = pattern.search(random_string)\n",
    "print(search)\n",
    "span = search.span()\n",
    "print(span)\n",
    "\n",
    "print(span, type(span))\n",
    "                    #34         #38\n",
    "print(random_string[span[0]: span[1]])\n",
    "print(random_string[34:38])\n"
   ]
  },
  {
   "cell_type": "markdown",
   "metadata": {},
   "source": [
    "### Sets <br>\n",
    "<p>The following cells will allow you to use regular expressions to search for certain values within a range such as numbers 1 through 4.</p>"
   ]
  },
  {
   "cell_type": "markdown",
   "metadata": {},
   "source": [
    "##### [a-z] or [A-Z] - any lowercase/uppercase letters from a to z<br/>[^2] - anything that's not 2"
   ]
  },
  {
   "cell_type": "markdown",
   "metadata": {},
   "source": [
    "##### Integer Ranges"
   ]
  },
  {
   "cell_type": "code",
   "execution_count": 14,
   "metadata": {},
   "outputs": [
    {
     "name": "stdout",
     "output_type": "stream",
     "text": [
      "(1, 4)\n",
      "<re.Match object; span=(1, 4), match='135'>\n"
     ]
    }
   ],
   "source": [
    "pattern = re.compile('[0-4][2-6][5-9]')\n",
    "random_numbers = pattern.search('713569871')\n",
    "span = random_numbers.span()\n",
    "print(span)\n",
    "print(random_numbers)"
   ]
  },
  {
   "cell_type": "code",
   "execution_count": 15,
   "metadata": {},
   "outputs": [
    {
     "name": "stdout",
     "output_type": "stream",
     "text": [
      "<re.Match object; span=(4, 7), match='563'>\n",
      "['563', '425', '063']\n"
     ]
    }
   ],
   "source": [
    "pattern = re.compile('[0-9][0-7][0-5]')\n",
    "more_nums = pattern.search('478956342590639487')\n",
    "print(more_nums)\n",
    "found_list = pattern.findall('478956342590639487')\n",
    "print(found_list)"
   ]
  },
  {
   "cell_type": "markdown",
   "metadata": {},
   "source": [
    "##### Character Ranges"
   ]
  },
  {
   "cell_type": "code",
   "execution_count": 16,
   "metadata": {},
   "outputs": [
    {
     "name": "stdout",
     "output_type": "stream",
     "text": [
      "['Hell', 'Name', 'Ryan']\n"
     ]
    }
   ],
   "source": [
    "char_pattern = re.compile('[A-Z][a-z][a-z][a-z]')\n",
    "\n",
    "found = char_pattern.findall(\"Hello my Name is Ryan and I like to party, responsibly\")\n",
    "\n",
    "print(found)"
   ]
  },
  {
   "cell_type": "code",
   "execution_count": 17,
   "metadata": {},
   "outputs": [
    {
     "ename": "TypeError",
     "evalue": "unhashable type: 'list'",
     "output_type": "error",
     "traceback": [
      "\u001b[1;31m---------------------------------------------------------------------------\u001b[0m",
      "\u001b[1;31mTypeError\u001b[0m                                 Traceback (most recent call last)",
      "Cell \u001b[1;32mIn[17], line 1\u001b[0m\n\u001b[1;32m----> 1\u001b[0m char_pattern \u001b[38;5;241m=\u001b[39m \u001b[43mre\u001b[49m\u001b[38;5;241;43m.\u001b[39;49m\u001b[43mcompile\u001b[49m\u001b[43m(\u001b[49m\u001b[43m[\u001b[49m\u001b[38;5;124;43m'\u001b[39;49m\u001b[38;5;124;43mA-Z\u001b[39;49m\u001b[38;5;124;43m'\u001b[39;49m\u001b[43m]\u001b[49m\u001b[43m)\u001b[49m\n\u001b[0;32m      3\u001b[0m found \u001b[38;5;241m=\u001b[39m char\n",
      "File \u001b[1;32mC:\\Program Files\\WindowsApps\\PythonSoftwareFoundation.Python.3.11_3.11.1264.0_x64__qbz5n2kfra8p0\\Lib\\re\\__init__.py:227\u001b[0m, in \u001b[0;36mcompile\u001b[1;34m(pattern, flags)\u001b[0m\n\u001b[0;32m    225\u001b[0m \u001b[38;5;28;01mdef\u001b[39;00m \u001b[38;5;21mcompile\u001b[39m(pattern, flags\u001b[38;5;241m=\u001b[39m\u001b[38;5;241m0\u001b[39m):\n\u001b[0;32m    226\u001b[0m     \u001b[38;5;124m\"\u001b[39m\u001b[38;5;124mCompile a regular expression pattern, returning a Pattern object.\u001b[39m\u001b[38;5;124m\"\u001b[39m\n\u001b[1;32m--> 227\u001b[0m     \u001b[38;5;28;01mreturn\u001b[39;00m \u001b[43m_compile\u001b[49m\u001b[43m(\u001b[49m\u001b[43mpattern\u001b[49m\u001b[43m,\u001b[49m\u001b[43m \u001b[49m\u001b[43mflags\u001b[49m\u001b[43m)\u001b[49m\n",
      "File \u001b[1;32mC:\\Program Files\\WindowsApps\\PythonSoftwareFoundation.Python.3.11_3.11.1264.0_x64__qbz5n2kfra8p0\\Lib\\re\\__init__.py:277\u001b[0m, in \u001b[0;36m_compile\u001b[1;34m(pattern, flags)\u001b[0m\n\u001b[0;32m    275\u001b[0m     flags \u001b[38;5;241m=\u001b[39m flags\u001b[38;5;241m.\u001b[39mvalue\n\u001b[0;32m    276\u001b[0m \u001b[38;5;28;01mtry\u001b[39;00m:\n\u001b[1;32m--> 277\u001b[0m     \u001b[38;5;28;01mreturn\u001b[39;00m \u001b[43m_cache\u001b[49m\u001b[43m[\u001b[49m\u001b[38;5;28;43mtype\u001b[39;49m\u001b[43m(\u001b[49m\u001b[43mpattern\u001b[49m\u001b[43m)\u001b[49m\u001b[43m,\u001b[49m\u001b[43m \u001b[49m\u001b[43mpattern\u001b[49m\u001b[43m,\u001b[49m\u001b[43m \u001b[49m\u001b[43mflags\u001b[49m\u001b[43m]\u001b[49m\n\u001b[0;32m    278\u001b[0m \u001b[38;5;28;01mexcept\u001b[39;00m \u001b[38;5;167;01mKeyError\u001b[39;00m:\n\u001b[0;32m    279\u001b[0m     \u001b[38;5;28;01mpass\u001b[39;00m\n",
      "\u001b[1;31mTypeError\u001b[0m: unhashable type: 'list'"
     ]
    }
   ],
   "source": [
    "char_pattern = re.compile(['A-Z'])\n",
    "\n",
    "found = char"
   ]
  },
  {
   "cell_type": "markdown",
   "metadata": {},
   "source": [
    "### Counting Occurences"
   ]
  },
  {
   "cell_type": "markdown",
   "metadata": {},
   "source": [
    "##### {x} - something that occurs {num_of_times}"
   ]
  },
  {
   "cell_type": "code",
   "execution_count": 1,
   "metadata": {},
   "outputs": [
    {
     "ename": "NameError",
     "evalue": "name 're' is not defined",
     "output_type": "error",
     "traceback": [
      "\u001b[1;31m---------------------------------------------------------------------------\u001b[0m",
      "\u001b[1;31mNameError\u001b[0m                                 Traceback (most recent call last)",
      "Cell \u001b[1;32mIn[1], line 1\u001b[0m\n\u001b[1;32m----> 1\u001b[0m char_count \u001b[38;5;241m=\u001b[39m \u001b[43mre\u001b[49m\u001b[38;5;241m.\u001b[39mcompile(\u001b[38;5;124m'\u001b[39m\u001b[38;5;124m[A-Z]\u001b[39m\u001b[38;5;132;01m{2}\u001b[39;00m\u001b[38;5;124m[0-9]\u001b[39m\u001b[38;5;124m'\u001b[39m)\n\u001b[0;32m      2\u001b[0m found_count \u001b[38;5;241m=\u001b[39m char_count\u001b[38;5;241m.\u001b[39mfindall(\u001b[38;5;124m'\u001b[39m\u001b[38;5;124mBB8 is pretty cool but I have always preferred R2D2 and C3P0. If I had a droid, I would name them PP4\u001b[39m\u001b[38;5;124m'\u001b[39m)\n\u001b[0;32m      4\u001b[0m \u001b[38;5;28mprint\u001b[39m(found_count)\n",
      "\u001b[1;31mNameError\u001b[0m: name 're' is not defined"
     ]
    }
   ],
   "source": [
    "char_count = re.compile('[A-Z]{2}[0-9]')\n",
    "found_count = char_count.findall('BB8 is pretty cool but I have always preferred R2D2 and C3P0. If I had a droid, I would name them PP4')\n",
    "\n",
    "print(found_count)"
   ]
  },
  {
   "cell_type": "code",
   "execution_count": 3,
   "metadata": {},
   "outputs": [
    {
     "name": "stdout",
     "output_type": "stream",
     "text": [
      "['Ryan', 'Alex', 'Marc', 'Kate']\n"
     ]
    }
   ],
   "source": [
    "char_count = re.compile('[A-Z][a-z]{3}')\n",
    "\n",
    "statement = char_count.findall('some people in this call have names with only 4 letters, they are Ryan, Alex, Marc and Kate')\n",
    "\n",
    "print(statement)"
   ]
  },
  {
   "cell_type": "markdown",
   "metadata": {},
   "source": [
    "##### {x, x} - something that occurs between x and x times"
   ]
  },
  {
   "cell_type": "code",
   "execution_count": 4,
   "metadata": {},
   "outputs": [
    {
     "name": "stdout",
     "output_type": "stream",
     "text": [
      "['m', 'm', 'mmmmm', 'm', 'm', 'mm', 'm', 'm', 'mm', 'mmm', 'mmmm', 'mmmmm', 'mmmmm', 'mmmm', 'mmmmm', 'mmmm']\n"
     ]
    }
   ],
   "source": [
    "random_pattern = re.compile('m{1,5}')\n",
    "random_statement = random_pattern.findall(\"This is an example of trying to find between 1 m and 5 mmmmm's. Here are some more mm's for example m mm mmm mmmm mmmmm mmmmmmmmm mmmmmmmmm\")\n",
    "\n",
    "print(random_statement)"
   ]
  },
  {
   "cell_type": "code",
   "execution_count": null,
   "metadata": {},
   "outputs": [],
   "source": [
    "potential_phone = re.compile('[0-9]{7,11}')\n",
    "\n",
    "is_there_phone = potential_phone.findall(\"I tried to call your customer service at 17732025862. Can you have someone call me back at 6307797697 \")\n",
    "\n",
    "print(is_there_phone)"
   ]
  },
  {
   "cell_type": "markdown",
   "metadata": {},
   "source": [
    "##### ? - something that occurs 0 or 1 time"
   ]
  },
  {
   "cell_type": "code",
   "execution_count": 5,
   "metadata": {},
   "outputs": [
    {
     "name": "stdout",
     "output_type": "stream",
     "text": [
      "['Hello', 'name', 'like', 'part', 'also', 'here', 'also', 'like', 'part']\n"
     ]
    }
   ],
   "source": [
    "#optional\n",
    "\n",
    "pattern = re.compile('[A-Z]?[a-z]{4}')\n",
    "\n",
    "found_pattern = pattern.findall(\"Hello my name is Ryan and I like to party also Alex is here and may also like to party...\")\n",
    "print(found_pattern)"
   ]
  },
  {
   "cell_type": "code",
   "execution_count": null,
   "metadata": {},
   "outputs": [],
   "source": [
    "pattern = re.compile('[A-Z]?[a-z]?[0-9]')\n",
    "\n",
    "droid_names = pattern.findall(\"I am C3PO Human Cyborg relations and this is my counterpart R2D2 beep boop boop also 1\")\n",
    "\n",
    "print(droid_names)"
   ]
  },
  {
   "cell_type": "markdown",
   "metadata": {},
   "source": [
    "##### * - something that occurs at least 0 times"
   ]
  },
  {
   "cell_type": "code",
   "execution_count": 6,
   "metadata": {},
   "outputs": [
    {
     "name": "stdout",
     "output_type": "stream",
     "text": [
      "['Hello', 'I', 'General', 'Leader', 'Republic', 'Army']\n"
     ]
    }
   ],
   "source": [
    "#.* -> wild cards of sorts\n",
    "\n",
    "pattern = re.compile('[A-Z][a-z]*')\n",
    "\n",
    "found_pattern = pattern.findall(\"Hello there, I am General kenobi, Leader of the Republic Army\")\n",
    "\n",
    "print(found_pattern)"
   ]
  },
  {
   "cell_type": "markdown",
   "metadata": {},
   "source": [
    "##### + - something that occurs at least once"
   ]
  },
  {
   "cell_type": "code",
   "execution_count": 7,
   "metadata": {},
   "outputs": [
    {
     "name": "stdout",
     "output_type": "stream",
     "text": [
      "['6302124887', '6302124847', '6307797697']\n"
     ]
    }
   ],
   "source": [
    "pattern = re.compile(\"[0-9]+\")\n",
    "\n",
    "found_pattern = pattern.findall(\"Here are a few numbers: 6302124887 6302124847 6307797697 \")\n",
    "\n",
    "print(found_pattern)"
   ]
  },
  {
   "cell_type": "markdown",
   "metadata": {},
   "source": [
    "##### In-class exercise 1: \n",
    "In-class exercise 1:\n",
    "\n",
    "Use a regular expression to find a formatted phone number in the string.\n"
   ]
  },
  {
   "cell_type": "code",
   "execution_count": 8,
   "metadata": {},
   "outputs": [
    {
     "name": "stdout",
     "output_type": "stream",
     "text": [
      "['773-202-5863', '630-852-8209']\n"
     ]
    }
   ],
   "source": [
    "#phone_string = \"If you need some sweet carpets please call 773-202-5863 also you can call my parents at 630-852-8209 but you would have to travel to 1999\"\n",
    "\n",
    "\n",
    "phone_format = re.compile(\"[0-9]{3}[-][0-9]{3}[-][0-9]{4}\")\n",
    "\n",
    "phone_string = \"If you need some sweet carpets please call 773-202-5863 also you can call my parents at 630-852-8209 but you would have to travel to 1999\"\n",
    "format_phone = phone_format.findall(phone_string)\n",
    "print(format_phone)\n",
    "\n"
   ]
  },
  {
   "cell_type": "markdown",
   "metadata": {},
   "source": [
    "### Escaping Characters"
   ]
  },
  {
   "cell_type": "markdown",
   "metadata": {},
   "source": [
    "##### \\w - look for any Unicode character<br/>\\W - look for anything that isnt a Unicode character\n",
    "\n",
    "[History on Unicode](http://unicode.org/standard/WhatIsUnicode.html)\n",
    "\n",
    "[More on Unicode Characters](https://en.wikipedia.org/wiki/List_of_Unicode_characters)"
   ]
  },
  {
   "cell_type": "code",
   "execution_count": 9,
   "metadata": {},
   "outputs": [
    {
     "name": "stdout",
     "output_type": "stream",
     "text": [
      "['This', 'is', 'a', 'sentence', 'with', 'an', 'exclamation', 'point', 'at', 'the', 'end', 'Also', 'please', 'don', 't', 'forget', 'to', 'floss', 'Between', 'all', '28', '32', 'of', 'your', 'beautiful', 'chompers']\n",
      "[' ', ' ', ' ', ' ', ' ', ' ', ' ', ' ', ' ', ' ', '!', ' ', ',', ' ', ' ', \"'\", ' ', ' ', ' ', ' ', ' ', ' ', '-', ' ', ' ', ' ', ' ', '.']\n"
     ]
    }
   ],
   "source": [
    "pattern_1 = re.compile(\"[\\w]+\")\n",
    "found_1 = pattern_1.findall(\"This is a sentence with an exclamation point at the end! Also, please don't forget to floss! Between all 28-32 of your beautiful chompers.\")\n",
    "pattern_2 = re.compile(\"[\\W]\")\n",
    "found_2 = pattern_2.findall(\"This is a sentence with an exclamation point at the end! Also, please don't forget to floss between all 28-32 of your beautiful chompers.\")\n",
    "print(found_1)\n",
    "print(found_2)\n"
   ]
  },
  {
   "cell_type": "markdown",
   "metadata": {},
   "source": [
    "##### \\d - look for any digit 0-9<br/>\\D - look for anything that isnt a digit"
   ]
  },
  {
   "cell_type": "code",
   "execution_count": 10,
   "metadata": {},
   "outputs": [
    {
     "name": "stdout",
     "output_type": "stream",
     "text": [
      "['12th', '13th', '17th', '21st']\n"
     ]
    }
   ],
   "source": [
    "#similar to [0-9] but you can set ranges\n",
    "pattern_nums = re.compile('\\d{1,2}[a-z]{1,2}')\n",
    "\n",
    "found_date = pattern_nums.findall(\"Today is the 12th, tomorrow will be the 13th and in days days it will be the 17th and then 4 days after that will be the 21st.\")\n",
    "\n",
    "print(found_date)"
   ]
  },
  {
   "cell_type": "code",
   "execution_count": 11,
   "metadata": {},
   "outputs": [
    {
     "name": "stdout",
     "output_type": "stream",
     "text": [
      "['Today is the ', 'th, tomorrow will be the ', 'th and in ', ' days it will be the ', 'th and then ', ' days later it will be the ', 'st. June ', 'st is the ', 'st day of the year ', 'rd']\n"
     ]
    }
   ],
   "source": [
    "pattern_no_num = re.compile(\"\\D+\")\n",
    "found_date = pattern_no_num.findall(\"Today is the 12th, tomorrow will be the 13th and in 5 days it will be the 17th and then 4 days later it will be the 21st. June 21st is the 171st day of the year 1283512837518273182763rd\")\n",
    "print(found_date)"
   ]
  },
  {
   "cell_type": "markdown",
   "metadata": {},
   "source": [
    "##### \\s - look for any white space<br/>\\S - look for anything that isnt whitespace"
   ]
  },
  {
   "cell_type": "code",
   "execution_count": 12,
   "metadata": {},
   "outputs": [
    {
     "name": "stdout",
     "output_type": "stream",
     "text": [
      "['            ', '           ', '                ', '         ', '      ']\n",
      "['Are', 'you', 'afraid', 'of', 'the', 'dark?']\n"
     ]
    }
   ],
   "source": [
    "no_space = re.compile(\"\\S+\")\n",
    "\n",
    "space = re.compile(\"\\s+\")\n",
    "\n",
    "found_space = space.findall(\"Are            you           afraid                of         the      dark?\")\n",
    "\n",
    "print(found_space)\n",
    "\n",
    "no_found_space = no_space.findall(\"Are            you           afraid                of         the      dark?\")\n",
    "print(no_found_space)"
   ]
  },
  {
   "cell_type": "markdown",
   "metadata": {},
   "source": [
    "##### \\b - look for boundaries or edges of a word<br/>\\B - look for anything that isnt a boundary"
   ]
  },
  {
   "cell_type": "code",
   "execution_count": 13,
   "metadata": {},
   "outputs": [
    {
     "name": "stdout",
     "output_type": "stream",
     "text": [
      "[]\n",
      "['cat']\n"
     ]
    }
   ],
   "source": [
    "new_pattern = re.compile(r'\\bcat\\b')\n",
    "\n",
    "cat_word = \"certificate\"\n",
    "cat_word2 = \"black cat\"\n",
    "found_cat = new_pattern.findall(cat_word)\n",
    "print(found_cat)\n",
    "found_cat2 = new_pattern.findall(cat_word2)\n",
    "print(found_cat2)"
   ]
  },
  {
   "cell_type": "code",
   "execution_count": 14,
   "metadata": {},
   "outputs": [
    {
     "name": "stdout",
     "output_type": "stream",
     "text": [
      "['cat']\n"
     ]
    }
   ],
   "source": [
    "new_pattern = re.compile(r\"\\Bcat\\B\")\n",
    "\n",
    "cat_bound = new_pattern.findall(cat_word)\n",
    "\n",
    "print(cat_bound)"
   ]
  },
  {
   "cell_type": "code",
   "execution_count": 15,
   "metadata": {},
   "outputs": [
    {
     "name": "stdout",
     "output_type": "stream",
     "text": [
      "['Ryan']\n"
     ]
    }
   ],
   "source": [
    "new_pattern = re.compile(r\"\\bRyan\\b\")\n",
    "\n",
    "found_pattern = new_pattern.findall(\"name Ryan name\")\n",
    "\n",
    "print(found_pattern)"
   ]
  },
  {
   "cell_type": "markdown",
   "metadata": {},
   "source": [
    "### Grouping"
   ]
  },
  {
   "cell_type": "code",
   "execution_count": 18,
   "metadata": {},
   "outputs": [
    {
     "name": "stdout",
     "output_type": "stream",
     "text": [
      "[('Max', 'Smith'), ('Sam', 'Darnold'), ('LeBron', 'James'), ('Micheal', 'Jordan'), ('Kevin', 'Durant'), ('Patrick', 'McCormick')]\n",
      "['Max Smith', ' aaron rodgers', ' Sam Darnold', ' LeBron James', ' Micheal Jordan', ' Kevin Durant', ' Patrick McCormick']\n",
      "Max Smith\n",
      "not a valid name\n",
      "Sam Darnold\n",
      "LeBron James\n",
      "Micheal Jordan\n",
      "Kevin Durant\n",
      "Patrick McCormick\n"
     ]
    }
   ],
   "source": [
    "my_string = \"Max Smith, aaron rodgers, Sam Darnold, LeBron James, Micheal Jordan, Kevin Durant, Patrick McCormick\"\n",
    "#creating our groups in our pattern \n",
    "pattern_name = re.compile(\"([A-Z][\\w]+)\\s([A-Z][\\w]+)\")\n",
    "                            #group1     #group2\n",
    "\n",
    "found_names = pattern_name.findall(my_string)\n",
    "print(found_names)\n",
    "\n",
    "list_strings = my_string.split(',')\n",
    "print(list_strings)\n",
    "\n",
    "for name in my_string.split(','):\n",
    "    match = pattern_name.search(name)\n",
    "    \n",
    "    if match:\n",
    "        print(match.group(1), match.group(2))\n",
    "#     or print(match.groups())\n",
    "        \n",
    "    else:\n",
    "        print(\"not a valid name\")"
   ]
  },
  {
   "cell_type": "markdown",
   "metadata": {},
   "source": [
    "##### In-class Exercise 2:\n",
    "\n",
    "Write a function using regular expressions to find the domain name in the given email addresses (and return None for the invalid email addresses)<br><b>HINT: Use '|' for either or</b>"
   ]
  },
  {
   "cell_type": "code",
   "execution_count": 19,
   "metadata": {},
   "outputs": [
    {
     "name": "stdout",
     "output_type": "stream",
     "text": [
      "[]\n",
      "None\n",
      "None\n",
      "pocohontas1776@gmail.com\n",
      "None\n",
      "yourfavoriteband@g6.org\n",
      "None\n"
     ]
    },
    {
     "data": {
      "text/plain": [
       "'Finished checking emails'"
      ]
     },
     "execution_count": 19,
     "metadata": {},
     "output_type": "execute_result"
    }
   ],
   "source": [
    "my_emails = [\"jordanw@codingtemple.orgcom\", \"myemail#gmail.com\", \"pocohontas1776@gmail.com\", \"helloworld@aol..com\",\n",
    "             \"yourfavoriteband@g6.org\", \"@codingtemple.com\"]\n",
    "\n",
    "# You can also use the $ at the end of your compile expression -- this stops the search\n",
    "\n",
    "#.com OR .org => com|org|edu|net\n",
    "\n",
    "#Expected output:\n",
    "#None\n",
    "#pocohontas1776@gmail.com\n",
    "#None\n",
    "#yourfavoriteband@g6.org\n",
    "#None\n",
    "\n",
    "#3 groups: username, \n",
    "                                 #or \\d* or\\W\n",
    "pattern_email = re.compile('([A-z]+[0-9]*)@([A-z0-9]+)(.com|.org|.net|.io)')\n",
    "found_emails = pattern_email.findall(my_emails[1])\n",
    "\n",
    "print(found_emails)\n",
    "\n",
    "def validate_email(email):\n",
    "    pattern_email = re.compile('([A-z]+[0-9]*)(@[A-z0-9]+)(.com|.org|.net|.io)$')\n",
    "    \n",
    "    if pattern_email.match(email):\n",
    "        return email\n",
    "    else:\n",
    "        return None\n",
    "    \n",
    "def check_emails(emails):\n",
    "    for email in emails:\n",
    "        print(validate_email(email))\n",
    "        \n",
    "    return \"Finished checking emails\"\n",
    "\n",
    "check_emails(my_emails)\n",
    "    \n",
    "\n"
   ]
  },
  {
   "cell_type": "markdown",
   "metadata": {},
   "source": [
    "### Opening a File <br>\n",
    "<p>Python gives us a couple ways to import files, below are the two used most often.</p>"
   ]
  },
  {
   "cell_type": "markdown",
   "metadata": {},
   "source": [
    "##### open()"
   ]
  },
  {
   "cell_type": "code",
   "execution_count": 20,
   "metadata": {},
   "outputs": [
    {
     "name": "stdout",
     "output_type": "stream",
     "text": [
      "Hawkins, Derek\tderek@codingtemple.com\t(555) 555-5555\tTeacher, Coding Temple\t@derekhawkins\n",
      "Zhai, Mo\tmozhai@codingtemple.com\t(555) 555-5554\tTeacher, Coding Temple\n",
      "Johnson, Joe\tjoejohnson@codingtemple.com\t\tJohson, Joe\n",
      "Osterberg, Sven-Erik\tgovernor@norrbotten.co.se\t\tGovernor, Norrbotten\t@sverik\n",
      ", Tim\ttim@killerrabbit.com\t\tEnchanter, Killer Rabbit Cave\n",
      "Butz, Ryan\tryanb@codingtemple.com\t(555) 555-5543\tCEO, Coding Temple\t@ryanbutz\n",
      "Doctor, The\tdoctor+companion@tardis.co.uk\t\tTime Lord, Gallifrey\n",
      "Exampleson, Example\tme@example.com\t555-555-5552\tExample, Example Co.\t@example\n",
      "Pael, Ripal\tripalp@codingtemple.com\t(555) 555-5553\tTeacher, Coding Temple\t@ripalp\n",
      "Vader, Darth\tdarth-vader@empire.gov\t(555) 555-4444\tSith Lord, Galactic Empire\t@darthvader\n",
      "Fernandez de la Vega Sanz, Maria Teresa\tmtfvs@spain.gov\t\tFirst Deputy Prime Minister, Spanish Gov\n",
      "\n"
     ]
    }
   ],
   "source": [
    "f = open(\"names.txt\")\n",
    "\n",
    "data = f.read()\n",
    "\n",
    "print(data)\n",
    "\n",
    "f.close()\n",
    "\n",
    "#data comes back as a really large string"
   ]
  },
  {
   "cell_type": "markdown",
   "metadata": {},
   "source": [
    "##### with open()"
   ]
  },
  {
   "cell_type": "code",
   "execution_count": 21,
   "metadata": {},
   "outputs": [
    {
     "name": "stdout",
     "output_type": "stream",
     "text": [
      "Hawkins, Derek\tderek@codingtemple.com\t(555) 555-5555\tTeacher, Coding Temple\t@derekhawkins\n",
      "Zhai, Mo\tmozhai@codingtemple.com\t(555) 555-5554\tTeacher, Coding Temple\n",
      "Johnson, Joe\tjoejohnson@codingtemple.com\t\tJohson, Joe\n",
      "Osterberg, Sven-Erik\tgovernor@norrbotten.co.se\t\tGovernor, Norrbotten\t@sverik\n",
      ", Tim\ttim@killerrabbit.com\t\tEnchanter, Killer Rabbit Cave\n",
      "Butz, Ryan\tryanb@codingtemple.com\t(555) 555-5543\tCEO, Coding Temple\t@ryanbutz\n",
      "Doctor, The\tdoctor+companion@tardis.co.uk\t\tTime Lord, Gallifrey\n",
      "Exampleson, Example\tme@example.com\t555-555-5552\tExample, Example Co.\t@example\n",
      "Pael, Ripal\tripalp@codingtemple.com\t(555) 555-5553\tTeacher, Coding Temple\t@ripalp\n",
      "Vader, Darth\tdarth-vader@empire.gov\t(555) 555-4444\tSith Lord, Galactic Empire\t@darthvader\n",
      "Fernandez de la Vega Sanz, Maria Teresa\tmtfvs@spain.gov\t\tFirst Deputy Prime Minister, Spanish Gov\n",
      "\n",
      "['Hawkins, Derek\\tderek@codingtemple.com\\t(555) 555-5555\\tTeacher, Coding Temple\\t@derekhawkins', 'Zhai, Mo\\tmozhai@codingtemple.com\\t(555) 555-5554\\tTeacher, Coding Temple', 'Johnson, Joe\\tjoejohnson@codingtemple.com\\t\\tJohson, Joe', 'Osterberg, Sven-Erik\\tgovernor@norrbotten.co.se\\t\\tGovernor, Norrbotten\\t@sverik', ', Tim\\ttim@killerrabbit.com\\t\\tEnchanter, Killer Rabbit Cave', 'Butz, Ryan\\tryanb@codingtemple.com\\t(555) 555-5543\\tCEO, Coding Temple\\t@ryanbutz', 'Doctor, The\\tdoctor+companion@tardis.co.uk\\t\\tTime Lord, Gallifrey', 'Exampleson, Example\\tme@example.com\\t555-555-5552\\tExample, Example Co.\\t@example', 'Pael, Ripal\\tripalp@codingtemple.com\\t(555) 555-5553\\tTeacher, Coding Temple\\t@ripalp', 'Vader, Darth\\tdarth-vader@empire.gov\\t(555) 555-4444\\tSith Lord, Galactic Empire\\t@darthvader', 'Fernandez de la Vega Sanz, Maria Teresa\\tmtfvs@spain.gov\\t\\tFirst Deputy Prime Minister, Spanish Gov', '']\n"
     ]
    }
   ],
   "source": [
    "with open(\"names.txt\") as f:\n",
    "    data = f.read()\n",
    "    print(data)\n",
    "    \n",
    "#data comes back as a really large string\n",
    "\n",
    "data_list = data.split('\\n')\n",
    "\n",
    "print(data_list)"
   ]
  },
  {
   "cell_type": "markdown",
   "metadata": {},
   "source": [
    "##### re.match()"
   ]
  },
  {
   "cell_type": "code",
   "execution_count": 22,
   "metadata": {},
   "outputs": [
    {
     "name": "stdout",
     "output_type": "stream",
     "text": [
      "None\n",
      "<re.Match object; span=(0, 14), match='Hawkins, Derek'>\n",
      "<class 'str'>\n"
     ]
    }
   ],
   "source": [
    "print(re.match(\"Vader, Darth\", data))\n",
    "\n",
    "print(re.match(\"Hawkins, Derek\", data))\n",
    "\n",
    "print(type(data))"
   ]
  },
  {
   "cell_type": "markdown",
   "metadata": {},
   "source": [
    "##### re.search()"
   ]
  },
  {
   "cell_type": "code",
   "execution_count": 23,
   "metadata": {},
   "outputs": [
    {
     "name": "stdout",
     "output_type": "stream",
     "text": [
      "<re.Match object; span=(652, 664), match='Vader, Darth'>\n",
      "<re.Match object; span=(582, 605), match='ripalp@codingtemple.com'>\n"
     ]
    }
   ],
   "source": [
    "print(re.search('Vader, Darth', data))\n",
    "\n",
    "print(re.search(\"ripalp@codingtemple.com\", data))"
   ]
  },
  {
   "cell_type": "markdown",
   "metadata": {},
   "source": [
    "##### Store the String to a Variable"
   ]
  },
  {
   "cell_type": "code",
   "execution_count": 24,
   "metadata": {},
   "outputs": [
    {
     "name": "stdout",
     "output_type": "stream",
     "text": [
      "What would you like to seach for? vader\n",
      "I found your data: ['vader', 'vader']\n",
      "I found your data: ['vader', 'vader']\n"
     ]
    }
   ],
   "source": [
    "answer = input(\"What would you like to seach for? \")\n",
    "\n",
    "found = re.findall(answer, data)\n",
    "found_2 = re.findall(answer,data)\n",
    "\n",
    "if found:\n",
    "    print(f\"I found your data: {found}\")\n",
    "else:\n",
    "    print(\"That person does not exist\")\n",
    "    \n",
    "if found_2:\n",
    "    print(f\"I found your data: {found_2}\")\n",
    "else:\n",
    "    print(\"That person does not exist\")\n",
    "        "
   ]
  },
  {
   "cell_type": "markdown",
   "metadata": {},
   "source": [
    "### In-Class Exercise #3 <br>\n",
    "<p>Print each persons name and twitter handle, using groups, should look like:</p>\n",
    "<p>==============<br>\n",
    "   Full Name / Twitter<br>\n",
    "   ==============</p>\n",
    "Derek Hawkins / @derekhawkins\n",
    "\n",
    " Erik Sven-Osterberg / @sverik\n",
    "\n",
    " Ryan Butz / @ryanbutz\n",
    "\n",
    " Example Exampleson / @example\n",
    "\n",
    " Ripal Pael / @ripalp\n",
    "\n",
    " Darth Vader / @darthvader"
   ]
  },
  {
   "cell_type": "code",
   "execution_count": 49,
   "metadata": {
    "scrolled": true
   },
   "outputs": [
    {
     "name": "stdout",
     "output_type": "stream",
     "text": [
      " Derek Hawkins / @derekhawkins\n",
      " Mo Zhai / None\n",
      " Joe Johnson / None\n",
      " Sven Osterberg / @sverik\n",
      " Killer Enchanter / None\n",
      " Ryan Butz / @ryanbutz\n",
      " The Doctor / None\n",
      " Example Exampleson / @example\n",
      " Ripal Pael / @ripalp\n",
      " Darth Vader / @darthvader\n",
      " Maria Sanz / None\n"
     ]
    }
   ],
   "source": [
    "import re\n",
    "\n",
    "with open(\"names.txt\") as f:\n",
    "    data = f.readlines()\n",
    "    \n",
    "pattern_name = re.compile('([A-z][\\w]+), ([A-Z][\\w]+)')\n",
    "pattern_twitter = re.compile('\\s@([a-z0-9]+)?')\n",
    "\n",
    "for i in range(len(data)):\n",
    "    name_str = pattern_name.search(data[i])\n",
    "    twitter_str = pattern_twitter.search(data[i])\n",
    "\n",
    "    span1 = name_str.span()\n",
    "    if twitter_str:\n",
    "        span2 = twitter_str.span()\n",
    "        line_twitter = (data[i][span2[0] : span2[1]])\n",
    "        line_twitter.replace('\\t','')\n",
    "    else:\n",
    "        line_twitter = \"None\"\n",
    "    line_name = (data[i][span1[0] : span1[1]]).split(',')\n",
    "    line_name.reverse()\n",
    "    n = line_name[0].replace('\\t','')\n",
    "    print(n + \" \" + line_name[1] + \" / \" + line_twitter.strip())\n",
    "    \n",
    "    \n"
   ]
  },
  {
   "cell_type": "markdown",
   "metadata": {},
   "source": [
    "### Regex project\n",
    "\n",
    "Use python to read the file regex_test.txt and print the last name on each line using regular expressions and groups (return None for names with no first and last name, or names that aren't properly capitalized)\n",
    "##### Hint: use with open() and readlines()"
   ]
  },
  {
   "cell_type": "code",
   "execution_count": 52,
   "metadata": {},
   "outputs": [
    {
     "name": "stdout",
     "output_type": "stream",
     "text": [
      "Lincoln\n",
      "Garfield\n",
      "Milliken\n",
      "Williams\n",
      "None\n",
      "None\n"
     ]
    }
   ],
   "source": [
    "\"\"\"\n",
    "Expected Output\n",
    "Abraham Lincoln\n",
    "Andrew P Garfield\n",
    "Connor Milliken\n",
    "Jordan Alexander Williams\n",
    "None\n",
    "None\n",
    "\"\"\"\n",
    "import re\n",
    "with open(\"regex_test.txt\") as f:\n",
    "    data = f.readlines()\n",
    "pattern_name = re.compile('(\\s[A-Z][A-z]+)')\n",
    "for i in range(len(data)):\n",
    "    name_str = pattern_name.findall(data[i])\n",
    "\n",
    "    if name_str:\n",
    "        print(name_str[-1].strip())\n",
    "    else:\n",
    "        print(\"None\")"
   ]
  }
 ],
 "metadata": {
  "kernelspec": {
   "display_name": "Python 3 (ipykernel)",
   "language": "python",
   "name": "python3"
  },
  "language_info": {
   "codemirror_mode": {
    "name": "ipython",
    "version": 3
   },
   "file_extension": ".py",
   "mimetype": "text/x-python",
   "name": "python",
   "nbconvert_exporter": "python",
   "pygments_lexer": "ipython3",
   "version": "3.11.4"
  }
 },
 "nbformat": 4,
 "nbformat_minor": 2
}
